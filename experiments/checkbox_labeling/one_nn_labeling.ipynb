{
 "cells": [
  {
   "cell_type": "markdown",
   "id": "0b7809c3-f208-40b7-b055-314d092d4492",
   "metadata": {},
   "source": [
    "# One Nearest Neighbor Checkbox Labeling  "
   ]
  },
  {
   "cell_type": "markdown",
   "id": "4967a9b0-67ac-4928-a295-db28403c6e2a",
   "metadata": {},
   "source": [
    "Author(s) - Ryan Folks  \n",
    "Purpose - To label checkboxes using 1nn classification.  \n",
    "\n",
    "---"
   ]
  },
  {
   "cell_type": "code",
   "execution_count": null,
   "id": "fdd04179-53ee-4d99-beaa-b89337165a23",
   "metadata": {},
   "outputs": [],
   "source": []
  }
 ],
 "metadata": {
  "kernelspec": {
   "display_name": "Python 3 (ipykernel)",
   "language": "python",
   "name": "python3"
  },
  "language_info": {
   "codemirror_mode": {
    "name": "ipython",
    "version": 3
   },
   "file_extension": ".py",
   "mimetype": "text/x-python",
   "name": "python",
   "nbconvert_exporter": "python",
   "pygments_lexer": "ipython3",
   "version": "3.12.2"
  }
 },
 "nbformat": 4,
 "nbformat_minor": 5
}
