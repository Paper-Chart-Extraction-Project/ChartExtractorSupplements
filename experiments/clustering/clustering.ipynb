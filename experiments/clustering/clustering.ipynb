{
 "cells": [
  {
   "cell_type": "markdown",
   "metadata": {},
   "source": [
    "# Clustering Experiment\n",
    "\n",
    "In this notebook we collab to create a solution to determining the BP and HR values as well as times using clustering. Currently we are determining only the indiviudal digits, but we need to recognize these as coherent numbers and be able to assign entries to numbers."
   ]
  },
  {
   "cell_type": "markdown",
   "metadata": {},
   "source": [
    "### Before we start, we need to be able to do some collaboration. \n",
    "\n",
    "Lets do this using the CodeTogether Live VS code plug in.\n",
    "\n",
    "- Search `CodeTogether Live VS code` in the extensions tab on the left-hand side. Download the add-on. \n",
    "- When you're coding if you want to live collaborate with someone else send them the link that you created when you create a session\n",
    "\n",
    "Note: This will not allow for dual cursors. It only allows you guys to both follow along and edit with one another on the same cursor.\n"
   ]
  },
  {
   "cell_type": "markdown",
   "metadata": {},
   "source": [
    "### Collab\n",
    "\n",
    "We should consider collab in my opinion."
   ]
  },
  {
   "cell_type": "code",
   "execution_count": null,
   "metadata": {},
   "outputs": [],
   "source": [
    "# We cook"
   ]
  }
 ],
 "metadata": {
  "language_info": {
   "name": "python"
  }
 },
 "nbformat": 4,
 "nbformat_minor": 2
}
