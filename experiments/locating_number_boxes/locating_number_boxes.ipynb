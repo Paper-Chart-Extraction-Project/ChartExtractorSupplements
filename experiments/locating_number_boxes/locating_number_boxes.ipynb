{
 "cells": [
  {
   "cell_type": "markdown",
   "id": "b253876c-8d29-4af6-a061-2d4bcea9cb0f",
   "metadata": {},
   "source": [
    "# Locating Number Boxes  \n",
    "\n",
    "Author - Ryan Folks  \n",
    "Purpose - To investigate whether the centroids of a sample of boxes from 10 charts can be used to reliably locate number boxes.  \n",
    "\n",
    "---"
   ]
  },
  {
   "cell_type": "code",
   "execution_count": null,
   "id": "b308a75e-dddc-47ca-b486-1b9976aaefe4",
   "metadata": {},
   "outputs": [],
   "source": []
  }
 ],
 "metadata": {
  "kernelspec": {
   "display_name": "Python 3 (ipykernel)",
   "language": "python",
   "name": "python3"
  },
  "language_info": {
   "codemirror_mode": {
    "name": "ipython",
    "version": 3
   },
   "file_extension": ".py",
   "mimetype": "text/x-python",
   "name": "python",
   "nbconvert_exporter": "python",
   "pygments_lexer": "ipython3",
   "version": "3.12.2"
  }
 },
 "nbformat": 4,
 "nbformat_minor": 5
}
