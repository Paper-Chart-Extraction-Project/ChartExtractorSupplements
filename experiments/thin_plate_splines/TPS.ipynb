{
 "cells": [
  {
   "cell_type": "markdown",
   "metadata": {},
   "source": [
    "# Thin Plate Splines Transformations\n",
    "**Author: Matthew Beck** \\\n",
    "\\\n",
    "**Purpose:** The purpose of this experiment to implement thin plate spline transformations on images. The goal is to help normalize images of charts that have been folded or bent. TPS registration will be performed post-homography"
   ]
  },
  {
   "cell_type": "code",
   "execution_count": 1,
   "metadata": {},
   "outputs": [],
   "source": [
    "# imports\n",
    "import cv2\n",
    "import numpy as np"
   ]
  },
  {
   "cell_type": "code",
   "execution_count": null,
   "metadata": {},
   "outputs": [],
   "source": [
    "def tps_tranform(image, src_points: List[BoundingBox], dst_points: List[BoundingBox]):\n",
    "\n",
    "    # convert list of bounding boxes to lists of cv2.KeyPoints\n",
    "    # we will use the top left of the bounding box as our point of reference\n",
    "    src_keypoints = [cv2.KeyPoint(bb.left, bb.top, 1) for bb in src_points]\n",
    "    dst_keypoints = [cv2.KeyPoint(bb.left, bb.top, 1) for bb in dst_points]\n",
    "\n",
    "    # Thin Plate Splines Transformer from cv2\n",
    "    tps = cv2.createThinPlateSplineShapeTransformer()\n",
    "\n",
    "    # get matches between the source and destination points\n",
    "    # !! this is assuming that the corresponding source and destination points are the same indice in their respective list\n",
    "    # TODO: filter by category and filter out for only unique\n",
    "    # TODO: make the matches based off of these unique categories\n",
    "    # TODO: Dict category (key) : BoundingBox(value)\n",
    "    matches = [cv2.DMatch(i, i, 0) for i in range(len(src_points))]\n",
    "\n",
    "    # estimation of the transformation\n",
    "    tps.estimateTransformation(dst_keypoints, src_keypoints, matches)\n",
    "\n",
    "    # Alter the image according to the transformation\n",
    "    h, w, _ = image.shape\n",
    "    # create grid\n",
    "    x = np.linspace(0, w-1, w)\n",
    "    y = np.linspace(0, h-1, h)\n",
    "    grid_x, grid_y = np.meshgrid(x, y)\n",
    "    grid = np.concatenate([grid_x.flatten().reshape(-1,1), grid_y.flatten().reshape(-1, 1)], axis=1)\n",
    "\n",
    "    # apply the transformation\n",
    "    tranformed_points = tps.applyTransformation(grid.astype(np.float32))\n",
    "\n",
    "    # reshape into grid\n",
    "    transformed_x = np.float32(tranformed_points[:, 0].reshape(grid_y.shape))\n",
    "    transformed_y = np.float32(tranformed_points[:, 1].reshape(grid_x.shape))\n",
    "\n",
    "    # warp the image\n",
    "    warp_img = cv2.remap(image, transformed_x, transformed_y, interpolation=cv2.INTER_LINEAR)\n",
    "\n",
    "    return warp_img"
   ]
  }
 ],
 "metadata": {
  "kernelspec": {
   "display_name": "ChartExtractor",
   "language": "python",
   "name": "python3"
  },
  "language_info": {
   "codemirror_mode": {
    "name": "ipython",
    "version": 3
   },
   "file_extension": ".py",
   "mimetype": "text/x-python",
   "name": "python",
   "nbconvert_exporter": "python",
   "pygments_lexer": "ipython3",
   "version": "3.12.7"
  }
 },
 "nbformat": 4,
 "nbformat_minor": 2
}
