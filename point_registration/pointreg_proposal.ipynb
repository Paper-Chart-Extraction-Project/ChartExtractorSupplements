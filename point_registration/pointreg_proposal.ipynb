{
 "cells": [
  {
   "cell_type": "markdown",
   "metadata": {},
   "source": [
    "# Robust non-rigid point registration\n",
    "\n",
    "Paper chart extractor - Hannah Valenty\n",
    "\n",
    "https://en.wikipedia.org/wiki/Point-set_registration"
   ]
  },
  {
   "cell_type": "markdown",
   "metadata": {},
   "source": [
    "### Point registration\n",
    "\n",
    "A method in computer vision where a spacial transform is implemented to align two point clouds (grouping of points). One cloud grouping can be classified as the model M, which we want to move to minimize the difference between that and the static scene points S.\n",
    "\n",
    "### Non-rigid registration\n",
    "\n",
    "Non-rigid refers to the type of transformation being applied to the model points in matching to the scene. Examples of this include affine (scaling and shear) transformations, but more generally applies to a nonlinear transformation.\n",
    "\n",
    "### Robust registration\n",
    "\n",
    "Robustness improves registration from the least squares formulation as it better considers outliers. "
   ]
  },
  {
   "cell_type": "markdown",
   "metadata": {},
   "source": [
    "### Coherent point drift\n",
    "\n",
    "This method takes a probabalistic approach to align the point sets. It is transformation model agnostic, where other approaches adopt the thin plate spline method."
   ]
  },
  {
   "cell_type": "markdown",
   "metadata": {},
   "source": [
    "----------------------\n",
    "\n",
    "## CPD implementation from existing methods\n",
    "\n",
    "https://github.com/siavashk/pycpd/tree/master"
   ]
  },
  {
   "cell_type": "markdown",
   "metadata": {},
   "source": [
    "Install from PyPI"
   ]
  },
  {
   "cell_type": "code",
   "execution_count": 3,
   "metadata": {},
   "outputs": [
    {
     "name": "stdout",
     "output_type": "stream",
     "text": [
      "Requirement already satisfied: pycpd in c:\\users\\valenty\\appdata\\local\\programs\\python\\python313\\lib\\site-packages (2.0.0)\n",
      "Requirement already satisfied: numpy in c:\\users\\valenty\\appdata\\local\\programs\\python\\python313\\lib\\site-packages (from pycpd) (2.1.3)\n",
      "Requirement already satisfied: future in c:\\users\\valenty\\appdata\\local\\programs\\python\\python313\\lib\\site-packages (from pycpd) (1.0.0)\n"
     ]
    }
   ],
   "source": [
    "!pip install pycpd"
   ]
  },
  {
   "cell_type": "markdown",
   "metadata": {},
   "source": [
    "### Example usage from README"
   ]
  },
  {
   "cell_type": "code",
   "execution_count": 10,
   "metadata": {},
   "outputs": [
    {
     "name": "stdout",
     "output_type": "stream",
     "text": [
      "Target Points: \n",
      " [[0.  0. ]\n",
      " [0.  1. ]\n",
      " [1.  0. ]\n",
      " [1.  1. ]\n",
      " [0.5 0. ]\n",
      " [0.  0.5]]\n"
     ]
    }
   ],
   "source": [
    "from pycpd import RigidRegistration\n",
    "import numpy as np\n",
    "import matplotlib.pyplot as plt\n",
    "\n",
    "# create 2D target points (you can get these from any source you desire)\n",
    "# creating a square w/ 2 additional points.\n",
    "target = np.array([[0, 0], [0, 1], [1, 0], [1, 1], [0.5, 0], [0, 0.5]])\n",
    "print('Target Points: \\n', target)"
   ]
  },
  {
   "cell_type": "code",
   "execution_count": 11,
   "metadata": {},
   "outputs": [
    {
     "name": "stdout",
     "output_type": "stream",
     "text": [
      "Source Points: \n",
      " [[1.  0. ]\n",
      " [1.  1. ]\n",
      " [2.  0. ]\n",
      " [2.  1. ]\n",
      " [1.5 0. ]\n",
      " [1.  0.5]]\n"
     ]
    }
   ],
   "source": [
    "# create a translation to apply to the target for testing the registration\n",
    "translation = [1, 0]\n",
    "\n",
    "# create a fake source by adding a translation to the target.\n",
    "# in a real use, you would load the source points from a file or other source.\n",
    "# the only requirement is that this array also be 2-dimensional and that the\n",
    "# second dimension be the same length as the second dimension of the target array.\n",
    "source = target + translation\n",
    "print('Source Points: \\n', source)"
   ]
  },
  {
   "cell_type": "code",
   "execution_count": 12,
   "metadata": {},
   "outputs": [],
   "source": [
    "# create a RigidRegistration object\n",
    "reg = RigidRegistration(X=target, Y=source)\n",
    "# run the registration & collect the results\n",
    "TY, (s_reg, R_reg, t_reg) = reg.register()\n",
    "\n",
    "# TY is the transformed source points\n",
    "# the values in () are the registration parameters.\n",
    "# In this case of rigid registration they are:\n",
    "#     s_reg the scale of the registration\n",
    "#     R_reg the rotation matrix of the registration\n",
    "#     t_reg the translation of the registration"
   ]
  },
  {
   "cell_type": "code",
   "execution_count": 17,
   "metadata": {},
   "outputs": [
    {
     "data": {
      "image/png": "[encoded data removed]",
      "text/plain": [
       "<Figure size 640x480 with 1 Axes>"
      ]
     },
     "metadata": {},
     "output_type": "display_data"
    }
   ],
   "source": [
    "# plot for visual comparison\n",
    "plt.scatter(source[:,0], source[:,1], c='g', marker='o', label='source')\n",
    "plt.scatter(target[:,0], target[:,1], c='b', marker='o', label='target')\n",
    "plt.scatter(TY[:,0], TY[:,1], c='r', marker='x', label='transformed')\n",
    "plt.legend(loc='upper left')\n",
    "plt.title('Toy data rigid transformation')\n",
    "plt.show()"
   ]
  },
  {
   "cell_type": "code",
   "execution_count": 9,
   "metadata": {},
   "outputs": [
    {
     "data": {
      "text/plain": [
       "array([[0. , 0. ],\n",
       "       [0. , 1. ],\n",
       "       [1. , 0. ],\n",
       "       [1. , 1. ],\n",
       "       [0.5, 0. ],\n",
       "       [0. , 0.5]])"
      ]
     },
     "execution_count": 9,
     "metadata": {},
     "output_type": "execute_result"
    }
   ],
   "source": []
  },
  {
   "cell_type": "code",
   "execution_count": null,
   "metadata": {},
   "outputs": [],
   "source": []
  }
 ],
 "metadata": {
  "kernelspec": {
   "display_name": "Python 3",
   "language": "python",
   "name": "python3"
  },
  "language_info": {
   "codemirror_mode": {
    "name": "ipython",
    "version": 3
   },
   "file_extension": ".py",
   "mimetype": "text/x-python",
   "name": "python",
   "nbconvert_exporter": "python",
   "pygments_lexer": "ipython3",
   "version": "3.13.0"
  }
 },
 "nbformat": 4,
 "nbformat_minor": 2
}
