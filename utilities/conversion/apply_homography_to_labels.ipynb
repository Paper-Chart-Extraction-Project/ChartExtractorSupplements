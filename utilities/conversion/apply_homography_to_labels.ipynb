{
 "cells": [
  {
   "cell_type": "markdown",
   "id": "6b9d8dbd-5c0d-44c4-8054-ceb6d1f130fb",
   "metadata": {},
   "source": [
    "# Apply Homography to Labels"
   ]
  },
  {
   "cell_type": "code",
   "execution_count": 21,
   "id": "5f322da5-10f8-49ee-a81a-5edc7bac12cd",
   "metadata": {},
   "outputs": [],
   "source": [
    "import sys\n",
    "import os\n",
    "sys.path.append(os.path.join(\"..\", \"..\", \"..\", \"ChartExtractor\", \"src\"))"
   ]
  },
  {
   "cell_type": "code",
   "execution_count": 22,
   "id": "95997450-a2a0-4035-b040-3c8fb532836b",
   "metadata": {},
   "outputs": [],
   "source": [
    "import json\n",
    "import random\n",
    "from PIL import Image, ImageDraw\n",
    "from pathlib import Path\n",
    "from typing import Dict, List, Tuple, Optional\n",
    "from tqdm import tqdm\n",
    "# Created a folder utils in the conversion folder and moved these files into there so we can call their functions\n",
    "# There should be a better way to do this perhaps, if this is something we will use across various microservices\n",
    "# Perhaps they can be a part of a package.\n",
    "from utils.annotations import BoundingBox, Point\n",
    "from utils.image_conversion import pil_to_cv2, cv2_to_pil\n",
    "\n",
    "\n",
    "import cv2\n",
    "import numpy as np\n",
    "import pandas as pd"
   ]
  },
  {
   "cell_type": "code",
   "execution_count": 23,
   "id": "820c4efa-bb9c-489c-9e44-07417836f3e4",
   "metadata": {},
   "outputs": [],
   "source": [
    "from operator import attrgetter"
   ]
  },
  {
   "cell_type": "code",
   "execution_count": 24,
   "id": "7ca02ed3-a7fc-44ea-9f47-2c3b90a0ea48",
   "metadata": {},
   "outputs": [],
   "source": [
    "Point.__repr__ = lambda self: f\"Point({self.x}, {self.y})\""
   ]
  },
  {
   "cell_type": "markdown",
   "id": "ddfd5339-e298-4223-a19f-94203044e543",
   "metadata": {},
   "source": [
    "---"
   ]
  },
  {
   "cell_type": "markdown",
   "id": "3dd0d783-7093-4e21-9907-fa112f6deb57",
   "metadata": {},
   "source": [
    "## 1 - Load Data\n",
    "\n"
   ]
  },
  {
   "cell_type": "code",
   "execution_count": 25,
   "id": "cd2294bd-3749-4872-b7e8-918218191c88",
   "metadata": {},
   "outputs": [],
   "source": [
    "def label_studio_to_bboxes(path_to_json_data: Path) -> List[BoundingBox]:\n",
    "    \"\"\"\n",
    "    Loads data from LabelStudio's json format into BoundingBoxes.\n",
    "\n",
    "    Args:\n",
    "        path_to_json_data (Path) \n",
    "            A path to the json file containing the data.\n",
    "    Returns:\n",
    "        A list of BoundingBoxes.\n",
    "    \"\"\"\n",
    "    json_data: List[Dict] = json.loads(open(str(path_to_json_data)).read())\n",
    "    return {\n",
    "        sheet_data['data']['image'].split(\"-\")[-1]:[\n",
    "            BoundingBox(\n",
    "                category=label['value']['rectanglelabels'][0],\n",
    "                left=label['value']['x']/100,\n",
    "                top=label['value']['y']/100,\n",
    "                right=label['value']['x']/100+label['value']['width']/100,\n",
    "                bottom=label['value']['y']/100+label['value']['height']/100,\n",
    "            )\n",
    "            for label in sheet_data['annotations'][0]['result']\n",
    "        ]\n",
    "        for sheet_data in json_data\n",
    "    }\n",
    "\n",
    "\n",
    "data_path: Path = Path(\"..\")/\"..\"/\"data\"\n",
    "landmark_location_data: Dict[str, List[BoundingBox]] = label_studio_to_bboxes(data_path/\"intraop_document_landmarks.json\")\n",
    "checkbox_location_data: Dict[str, List[BoundingBox]] = label_studio_to_bboxes(data_path/\"intraop_checkbox_names.json\")"
   ]
  },
  {
   "cell_type": "markdown",
   "id": "c169a1f4-dc7f-4242-b8a4-bb5062fa6cdc",
   "metadata": {},
   "source": [
    "This is a slightly different version of the homography function from the main program. The only thing it changes is to return the homography matrix along with the image."
   ]
  },
  {
   "cell_type": "code",
   "execution_count": 26,
   "id": "3a24eb52-c5f0-4c69-972f-6193117efe19",
   "metadata": {},
   "outputs": [],
   "source": [
    "def homography_transform(\n",
    "    src_image: Image.Image,\n",
    "    src_points: List[Tuple[float, float]],\n",
    "    dest_points: List[Tuple[float, float]],\n",
    "    original_image_size: Tuple[float, float] = (3300, 2250),\n",
    ") -> Tuple[List[List[float]], Image.Image]:\n",
    "    \"\"\"Performs homography transformation on an image.\n",
    "\n",
    "    This function transforms an image (src_image) based on corresponding points\n",
    "    between the source and destination images. It calculates the homography matrix\n",
    "    and uses it to warp the source image to the perspective of the destination points.\n",
    "\n",
    "    Args:\n",
    "        src_image (Image.Image):\n",
    "            A PIL image object representing the source image.\n",
    "        src_points (List[Tuple[int, int]]):\n",
    "            A list of tuples (x, y) representing points in the source image that correspond\n",
    "            to points in the destination image.\n",
    "        dest_points (List[Tuple[int, int]]):\n",
    "            A list of tuples (x, y) representing points in the destination image that points\n",
    "            in the source image correspond to (where the source image should be warped to).\n",
    "        original_image_size (Tuple[float, float]):\n",
    "            A tuple (width, height) representing the size of the control image.\n",
    "            Defaults to (3300, 2250).\n",
    "\n",
    "    Returns:\n",
    "        A PIL image object representing the transformed source image.\n",
    "\n",
    "    Raises:\n",
    "        ValueError:\n",
    "            If the length of src_points and dest_points don't match (must have the same\n",
    "            number of corresponding points), or if there are less than 4 points.\n",
    "    \"\"\"\n",
    "    src_points: np.ndarray = np.array(src_points)\n",
    "    dest_points: np.ndarray = np.array(dest_points)\n",
    "\n",
    "    if len(src_points) != len(dest_points):\n",
    "        raise ValueError(\n",
    "            \"Source and destination points must have the same number of elements.\"\n",
    "        )\n",
    "    if len(src_points) < 4 or len(dest_points) < 4:\n",
    "        raise ValueError(\"Must have 4 or more points to compute the homography.\")\n",
    "\n",
    "    src_image = pil_to_cv2(src_image)\n",
    "    h, status = cv2.findHomography(src_points, dest_points)\n",
    "\n",
    "    dest_image = cv2.warpPerspective(src_image, h, original_image_size)\n",
    "    return h, cv2_to_pil(dest_image)"
   ]
  },
  {
   "cell_type": "code",
   "execution_count": 27,
   "id": "36bfc243-75e8-4aff-ba61-5a92a06ba7b6",
   "metadata": {},
   "outputs": [],
   "source": [
    "def get_corresponding_points(bboxes, imsize) -> List[Tuple[float, float]]:\n",
    "    \"\"\"Gets and sorts the points used for the homography from all the bounding boxes that are labeled.\"\"\"\n",
    "    categories_to_get = ['anesthesia_start', 'lateral', 'safety_checklist', 'units']\n",
    "    if not all([c in [bb.category for bb in bboxes] for c in categories_to_get]):\n",
    "        raise ValueError(f\"Necessary labels not found: {categories_to_get}\")\n",
    "    \n",
    "    points = list(map(\n",
    "        attrgetter('center'),\n",
    "        sorted(\n",
    "            list(filter(lambda bb: bb.category in categories_to_get, bboxes)), \n",
    "            key=lambda bb: bb.category\n",
    "        )\n",
    "    ))\n",
    "    return [(p[0]*imsize[0], p[1]*imsize[1]) for p in points]"
   ]
  },
  {
   "cell_type": "code",
   "execution_count": 44,
   "id": "a18e97c6-e438-461a-a701-2bf320da275f",
   "metadata": {},
   "outputs": [],
   "source": [
    "remap_point = lambda p, h: cv2.perspectiveTransform(np.array(p, dtype=np.float32).reshape(-1, 1, 2), h).tolist()[0][0]\n",
    "\n",
    "\n",
    "def remap_bbox(\n",
    "    bbox: BoundingBox, \n",
    "    homography_matrix: List[List[float]], \n",
    "    original_width:int=4032, \n",
    "    original_height:int=3024,\n",
    "    new_width:int=3300,\n",
    "    new_height:int=2550,\n",
    ") -> BoundingBox:\n",
    "    \"\"\"Maps boundingboxes to a new space using the homography matrix.\n",
    "    \n",
    "    Given a bounding box, homography matrix, and the image sizes of the original \n",
    "    and destination (new) image, this function returns a remapped bounding box.\n",
    "    \"\"\"\n",
    "    new_left, new_top = remap_point((bbox.left*original_width, bbox.top*original_height), homography_matrix)\n",
    "    new_right, new_bottom = remap_point((bbox.right*original_width, bbox.bottom*original_height), homography_matrix)\n",
    "    return BoundingBox(bbox.category, new_left/new_width, new_top/new_height, new_right/new_width, new_bottom/new_height)\n",
    "\n",
    "# Remap all bounding boxes\n",
    "remap_all_bboxes = lambda bboxes, h: [remap_bbox(bb, h) for bb in bboxes]"
   ]
  },
  {
   "cell_type": "code",
   "execution_count": 45,
   "id": "7bb3dbbb",
   "metadata": {},
   "outputs": [],
   "source": [
    "\"\"\"\n",
    "Functions added that allow for the completion of the homography transformation and the bounding boxes for the sheet.\n",
    "To be called from a for loop to complete for all documents, then exported to YOLO format.\n",
    "\"\"\"\n",
    "\n",
    "def __get_image_size(path: Path) -> Tuple[int, int]:\n",
    "    \"\"\"\n",
    "    Returns the size of the image based on path\n",
    "\n",
    "    Args:\n",
    "        path (Path): The path to the image file\n",
    "    Returns:\n",
    "        Tuple[int, int]: The width and height of the image\n",
    "    \"\"\"\n",
    "    return Image.open(data_path/\"unified_intraoperative_preoperative_flowsheet_v1_1_front.png\").size\n",
    "\n",
    "\n",
    "def complete_homography_and_get_bounding_boxes(\n",
    "    path_to_sheet: Path, \n",
    "    path_to_landmarks: Path,\n",
    "    intraoperative: bool = True,\n",
    "    show_images: bool = False,\n",
    ") -> Optional[List[BoundingBox]]:\n",
    "    \"\"\"\n",
    "    Function that completes the homography transformation and returns the bounding boxes for the sheet.\n",
    "\n",
    "    Args:\n",
    "        path_to_sheet (Path): The path to the sheet image\n",
    "        path_to_landmarks (Path): The path to the landmark json file\n",
    "        intraoperative (bool, optional): Whether the sheet is intraoperative or not. Defaults to True.\n",
    "        show_images (bool, optional): Whether to show the images or not. Defaults to False\n",
    "    Returns:\n",
    "        Optional[List[BoundingBox]]: The bounding boxes for the sheet. If None then the image could not be opened.\n",
    "    \"\"\"\n",
    "    # Get the landmark location data\n",
    "    data_path: Path = Path(\"..\")/\"..\"/\"data\"\n",
    "    landmark_location_data: Dict[str, List[BoundingBox]] = label_studio_to_bboxes(path_to_landmarks)\n",
    "    # Check if the sheet is in the landmark data\n",
    "    if path_to_sheet.name not in landmark_location_data:\n",
    "        print(f\"Sheet {path_to_sheet.name} not found in landmark data.\")\n",
    "        return None\n",
    "    # Get locations of landmarks for this sheet by getting the file name from the path\n",
    "    locations = landmark_location_data[path_to_sheet.name]\n",
    "    \n",
    "    # Get the unified front/back image\n",
    "    unified_file = f\"unified_intraoperative_preoperative_flowsheet_v1_1_{'front' if intraoperative else 'back'}.png\"\n",
    "    locations_unified = landmark_location_data[unified_file]\n",
    "    unified_width, unified_height = __get_image_size(data_path/unified_file)\n",
    "\n",
    "    # Get the image\n",
    "    try:\n",
    "        image = Image.open(path_to_sheet)\n",
    "    except:\n",
    "        print(f\"Unable to obtain image for sheet {path_to_sheet}. Likely in main directory and png format.\")\n",
    "        return None\n",
    "\n",
    "    # Get image dimensions\n",
    "    width, height = image.size\n",
    "\n",
    "    # If show_images is true show image\n",
    "    if show_images:\n",
    "        image.show()\n",
    "\n",
    "    # Perform homography transformation\n",
    "    h, pil_img = homography_transform(\n",
    "        src_image=image,\n",
    "        src_points=get_corresponding_points(locations, (width, height)),\n",
    "        dest_points=get_corresponding_points(locations_unified, (unified_width, unified_height)),\n",
    "        original_image_size=(unified_width, unified_height),\n",
    "    )\n",
    "\n",
    "    # Use the homography matrix to remap all bounding boxes\n",
    "    remapped_locations = remap_all_bboxes(locations, h)\n",
    "\n",
    "    # If show_images is true show image\n",
    "    if show_images:\n",
    "        pil_img.show()\n",
    "\n",
    "    # Draw bounding boxes on the image\n",
    "    generate_color = lambda: \"#%06x\" % random.randint(0, 0xFFFFFF)\n",
    "    draw = ImageDraw.Draw(pil_img)\n",
    "\n",
    "    for bounding_box in remapped_locations:\n",
    "        box = [\n",
    "            bounding_box.left*unified_width,\n",
    "            bounding_box.top*unified_height,\n",
    "            bounding_box.right*unified_width,\n",
    "            bounding_box.bottom*unified_height,\n",
    "        ]\n",
    "        draw.rectangle(box, outline=generate_color(), width=3)\n",
    "    pil_img.resize((800, 600))\n",
    "\n",
    "    # If show_images is true show image\n",
    "    if show_images:\n",
    "        pil_img.show()\n",
    "\n",
    "    return remapped_locations"
   ]
  },
  {
   "cell_type": "code",
   "execution_count": 46,
   "id": "77c8599f",
   "metadata": {},
   "outputs": [
    {
     "name": "stdout",
     "output_type": "stream",
     "text": [
      "Unable to obtain image for sheet ..\\..\\data\\chart_images\\unified_intraoperative_preoperative_flowsheet_v1_1_front.png. Likely in main directory and png format.\n",
      "[BoundingBox(category='5', left=0.7356603633996213, top=0.29567225477430553, right=0.7396224698153409, bottom=0.3042147894965278), BoundingBox(category='mg', left=0.7716475793087121, top=0.02623546176486545, right=0.7817822265625, bottom=0.03474719916449653), BoundingBox(category='mg', left=0.7716306374289773, top=0.046078433566623264, right=0.7816510564630682, bottom=0.05449038696289062), BoundingBox(category='micro_g', left=0.7723899887547349, top=0.06573454454210069, right=0.7806531871448864, bottom=0.07468798149956597), BoundingBox(category='pcnt', left=0.7741741388494319, top=0.5770718858506945, right=0.7805389589251894, bottom=0.5850824652777777), BoundingBox(category='mmHg', left=0.7666494288589015, top=0.5962450629340278, right=0.7884547378077652, bottom=0.6068153754340277), BoundingBox(category='pcnt', left=0.774481016216856, top=0.6157186957465278, right=0.7809050218986743, bottom=0.6235396592881944), BoundingBox(category='degree_C', left=0.7743519915956439, top=0.63480810546875, right=0.7810855379971591, bottom=0.6431584743923611), BoundingBox(category='ml', left=0.7745132723721591, top=0.6543197699652777, right=0.7821894975142045, bottom=0.6623961588541667), BoundingBox(category='BPM', left=0.7712235144412879, top=0.6735486653645834, right=0.7852075935132575, bottom=0.6820284830729166), BoundingBox(category='ml', left=0.7752814275568182, top=0.6927466362847222, right=0.7830806107954545, bottom=0.7014888237847222), BoundingBox(category='ml', left=0.7758163174715909, top=0.7125262044270834, right=0.7834794477982955, bottom=0.7211416558159722), BoundingBox(category='0', left=0.12531699440696023, top=0.0019169741736518012, right=0.12963299375591855, bottom=0.011006974114312066), BoundingBox(category='5', left=0.1406525860410748, top=0.0020616637335883247, right=0.14466381650982482, bottom=0.011231108771430121), BoundingBox(category='1', left=0.15311705618193655, top=0.0023755215538872614, right=0.15671612363873105, bottom=0.011151897854275174), BoundingBox(category='0', left=0.15714520078716857, top=0.002473421096801758, right=0.16109400893702652, bottom=0.01126338365342882), BoundingBox(category='1', left=0.16810474742542614, top=0.0027156028747558594, right=0.17133670691287878, bottom=0.011143524169921875), BoundingBox(category='5', left=0.1721026426373106, top=0.002473159154256185, right=0.1759219082919034, bottom=0.011262774997287327), BoundingBox(category='2', left=0.18268367882930872, top=0.0023370147281222874, right=0.18657600171638258, bottom=0.011406945970323351), BoundingBox(category='0', left=0.18719465775923294, top=0.00257769775390625, right=0.1910968202533144, bottom=0.011154263814290365), BoundingBox(category='2', left=0.19727459531841857, top=0.002488974889119466, right=0.2012148770419034, bottom=0.011374329460991754), BoundingBox(category='5', left=0.2019980505741004, top=0.0023924520280626084, right=0.20570872913707386, bottom=0.011300192091200086), BoundingBox(category='3', left=0.21200363621567234, top=0.0025168211195203995, right=0.2160595518169981, bottom=0.011307998657226563), BoundingBox(category='0', left=0.2168185332327178, top=0.002455221176147461, right=0.22057385993726325, bottom=0.011332177056206597), BoundingBox(category='3', left=0.22689351399739582, top=0.0024280384911431205, right=0.23080742113517994, bottom=0.011305116441514758), BoundingBox(category='5', left=0.2315441709576231, top=0.002452313952975803, right=0.23541163589015152, bottom=0.01146250745985243), BoundingBox(category='4', left=0.24164199366714015, top=0.0022974158393012155, right=0.24587933164654355, bottom=0.011099757724338107), BoundingBox(category='0', left=0.2462920587713068, top=0.0024196232689751517, right=0.2502047821969697, bottom=0.011239629957411025), BoundingBox(category='4', left=0.25645119406960226, top=0.002545152876112196, right=0.2603933623342803, bottom=0.01090326436360677), BoundingBox(category='5', left=0.2609982577237216, top=0.0023914741939968535, right=0.26494680693655304, bottom=0.011206486172146268), BoundingBox(category='5', left=0.2716561612215909, top=0.0024682962629530166, right=0.27531414609966853, bottom=0.011122976515028212), BoundingBox(category='0', left=0.275842803030303, top=0.0024864027235243055, right=0.2797086588541667, bottom=0.011179843478732639), BoundingBox(category='5', left=0.28637192234848485, top=0.0023423597547743056, right=0.2901371626420455, bottom=0.011432122124565972), BoundingBox(category='5', left=0.29064773097182767, top=0.002419978459676107, right=0.2945799301609848, bottom=0.011362274169921876), BoundingBox(category='0', left=0.3031488407019413, top=0.002520128462049696, right=0.3069293027935606, bottom=0.011418428209092881), BoundingBox(category='5', left=0.3183806818181818, top=0.0024703833262125652, right=0.32214399857954545, bottom=0.011465945773654514), BoundingBox(category='1', left=0.3309121981534091, top=0.002474500020345052, right=0.33425918116714015, bottom=0.011427720811631945), BoundingBox(category='0', left=0.33486169063683713, top=0.0025383241441514757, right=0.33865038322679925, bottom=0.011472448560926649), BoundingBox(category='1', left=0.3454763701467803, top=0.0024963785807291666, right=0.34879875414299244, bottom=0.011442205641004774), BoundingBox(category='5', left=0.34949880888967805, top=0.002440098656548394, right=0.35352343010179926, bottom=0.011382754855685764), BoundingBox(category='2', left=0.36024236505681817, top=0.0026819994184705946, right=0.36402602687026514, bottom=0.011589319017198351), BoundingBox(category='0', left=0.3647713586055871, top=0.0027376249101426866, right=0.36853326970880684, bottom=0.011520833333333333), BoundingBox(category='2', left=0.37491270123106063, top=0.002893256081475152, right=0.3791587136008523, bottom=0.011688529120551214), BoundingBox(category='5', left=0.37941913026751894, top=0.0027947341071234808, right=0.3834622839725379, bottom=0.011828631930881076), BoundingBox(category='3', left=0.3897426535866477, top=0.0030196054246690537, right=0.3937566953716856, bottom=0.011774124993218315), BoundingBox(category='0', left=0.3944540867660985, top=0.0031444791158040364, right=0.39821403734611743, bottom=0.011857916090223524), BoundingBox(category='3', left=0.40489609227035983, top=0.0029734867943657767, right=0.40862804066051134, bottom=0.011962855021158854), BoundingBox(category='5', left=0.409124237985322, top=0.002925503624810113, right=0.4131781190814394, bottom=0.01195812479654948), BoundingBox(category='4', left=0.41925992098721593, top=0.0030810928344726565, right=0.4236184599905303, bottom=0.011755411783854166), BoundingBox(category='0', left=0.424178984670928, top=0.0030610152350531686, right=0.4279570978338068, bottom=0.011896497090657552), BoundingBox(category='4', left=0.4340405643347538, top=0.0028658076392279732, right=0.43841552734375, bottom=0.011848275078667534), BoundingBox(category='5', left=0.4388867927320076, top=0.0029970383114284937, right=0.44270729758522726, bottom=0.011987987094455295), BoundingBox(category='5', left=0.44918223987926137, top=0.003035687976413303, right=0.453001708984375, bottom=0.012026007758246528), BoundingBox(category='0', left=0.4536587801846591, top=0.0031210725572374132, right=0.45752223159327654, bottom=0.012174329969618055), BoundingBox(category='5', left=0.46404370857007576, top=0.0031386600070529513, right=0.4678860011245265, bottom=0.012061058892144098), BoundingBox(category='5', left=0.4683120265151515, top=0.003185077879163954, right=0.4721517666903409, bottom=0.012230035569932726), BoundingBox(category='0', left=0.48068115234375, top=0.0031762493981255424, right=0.4845660585345644, bottom=0.012167362636990017), BoundingBox(category='5', left=0.49604384913589017, top=0.0032942057715521916, right=0.49991584546638257, bottom=0.012129383511013454), BoundingBox(category='1', left=0.508639803799716, top=0.0032089044782850477, right=0.5117832993016098, bottom=0.012261211819118923), BoundingBox(category='0', left=0.5123243667140152, top=0.0034161050584581164, right=0.5163974091500947, bottom=0.01213545905219184), BoundingBox(category='1', left=0.5233724698153409, top=0.0034551976521809895, right=0.5269109552556818, bottom=0.012214191012912327), BoundingBox(category='5', left=0.5273599150686553, top=0.003520361582438151, right=0.5311737615411932, bottom=0.012351467556423612), BoundingBox(category='2', left=0.5379453346946023, top=0.0034173675113254123, right=0.5419160970052084, bottom=0.012408614264594183), BoundingBox(category='0', left=0.5425304435961175, top=0.0035444444020589195, right=0.5464326615767046, bottom=0.012495467291937934), BoundingBox(category='2', left=0.5526251405658144, top=0.0036919725206163195, right=0.5567942856297349, bottom=0.012351478576660156), BoundingBox(category='5', left=0.5574884588068182, top=0.0036695645650227865, right=0.5612841057054925, bottom=0.012560601128472222), BoundingBox(category='3', left=0.5678580729166667, top=0.0037559407552083335, right=0.5715634247750947, bottom=0.012491136338975695), BoundingBox(category='0', left=0.5721683386600379, top=0.0037418590121799044, right=0.5758364405776515, bottom=0.012719132317437066), BoundingBox(category='3', left=0.5823285097064393, top=0.003839999728732639, right=0.5862114183830492, bottom=0.01285310787624783), BoundingBox(category='5', left=0.5867039535984848, top=0.00395229254828559, right=0.5908067368016099, bottom=0.013007350497775608), BoundingBox(category='4', left=0.5970025449810606, top=0.003958753797743055, right=0.6012183726917614, bottom=0.013072596232096355), BoundingBox(category='0', left=0.6016743607954546, top=0.004205186208089193, right=0.6055722878196023, bottom=0.013039131164550782), BoundingBox(category='4', left=0.6118510298295454, top=0.004425036960177951, right=0.6159812973484848, bottom=0.013079693264431423), BoundingBox(category='5', left=0.616530946673769, top=0.004180117289225261, right=0.6201917613636364, bottom=0.013310803731282551), BoundingBox(category='anesthesia_start', left=0.0005684032945921926, top=-0.020671378241644965, right=0.05395125417998343, bottom=-0.008940272861056857), BoundingBox(category='hour_24hr', left=0.06140109437884706, top=-0.01987743631998698, right=0.09454804391571969, bottom=-0.008038060506184896), BoundingBox(category='minute', left=0.12961113207267994, top=-0.01789002651638455, right=0.15163256096117425, bottom=-0.008851246303982204), BoundingBox(category='surgery_start', left=0.21133123224431818, top=-0.01808023749457465, right=0.25277119954427085, bottom=-0.005911996629503038), BoundingBox(category='hour_24hr', left=0.2632144997336648, top=-0.017936365763346354, right=0.29578666918205493, bottom=-0.007283016628689236), BoundingBox(category='minute', left=0.3297048857717803, top=-0.01738023885091146, right=0.3513369288589015, bottom=-0.008437288072374132), BoundingBox(category='surgery_end', left=0.41121023467092804, top=-0.017927605523003473, right=0.44925440932765154, bottom=-0.005548993004692925), BoundingBox(category='hour_24hr', left=0.4556110174005682, top=-0.017373970879448784, right=0.488245331735322, bottom=-0.006287854512532552), BoundingBox(category='minute', left=0.522236328125, top=-0.01622040303548177, right=0.5439034386837122, bottom=-0.006931580013699002), BoundingBox(category='anesthesia_end', left=0.6033348869554924, top=-0.017702392578125, right=0.6515254350142046, bottom=-0.005648057725694444), BoundingBox(category='hour_24hr', left=0.6627734375, top=-0.01626261732313368, right=0.6958395478219697, bottom=-0.005383060031467014), BoundingBox(category='minute', left=0.7302933386600379, top=-0.01599647013346354, right=0.7521005711410985, bottom=-0.0066388511657714845), BoundingBox(category='code', left=0.011472385290897254, top=-0.0005415529674953884, right=0.03253748344652581, bottom=0.010634559631347656), BoundingBox(category='drug_name', left=0.0599556709058357, top=0.0003360053698221842, right=0.10430898955374053, bottom=0.014573806762695313), BoundingBox(category='units', left=0.7663737718986743, top=0.00237902471754286, right=0.7867345821496212, bottom=0.013418730841742622), BoundingBox(category='propofol', left=0.04694154219193892, top=0.01982682800292969, right=0.07919483531605113, bottom=0.03384545559353298), BoundingBox(category='rocuronium', left=0.04692979754823627, top=0.04009822252061632, right=0.09294981060606061, bottom=0.051995703803168404), BoundingBox(category='fentanyl', left=0.047282844312263254, top=0.059718343098958335, right=0.0792882098573627, bottom=0.07287643093532986), BoundingBox(category='inhaled_volatile', left=0.034872207641601566, top=0.1965457763671875, right=0.09261175907019413, bottom=0.2098843994140625), BoundingBox(category='iso', left=0.01686798789284446, top=0.21828751627604168, right=0.02633296619762074, bottom=0.22604090711805555), BoundingBox(category='halo', left=0.04657903960256866, top=0.21735496690538195, right=0.06174356633966619, bottom=0.2264319525824653), BoundingBox(category='sev', left=0.0851692245945786, top=0.218361572265625, right=0.09623647054036458, bottom=0.22659446885850695), BoundingBox(category='des', left=0.11404429117838542, top=0.21887613932291666, right=0.1255309226296165, bottom=0.2265780571831597), BoundingBox(category='inhaled_exhaled', left=0.7525874467329545, top=0.20009217664930556, right=0.800552793560606, bottom=0.21204222276475695), BoundingBox(category='code', left=0.011872156316583806, top=0.2345263943142361, right=0.03269565929066051, bottom=0.24569420030381944), BoundingBox(category='fluid_blood_product', left=0.05096714828953598, top=0.23414339192708333, right=0.12124913995916194, bottom=0.24845342339409723), BoundingBox(category='total', left=0.7662812943892046, top=0.23748714192708334, right=0.7868410422585227, bottom=0.2485666775173611), BoundingBox(category='systolic', left=0.03765586159446023, top=0.3939633246527778, right=0.0785118241743608, bottom=0.41308021375868054), BoundingBox(category='heart_rate', left=0.02275963985558712, top=0.42299484592013886, right=0.07852628765684186, bottom=0.4380301106770833), BoundingBox(category='diastolic', left=0.03308890140417851, top=0.44997664388020836, right=0.07852316191702179, bottom=0.46576942274305555), BoundingBox(category='spo2', left=0.10360665986032197, top=0.5734786783854167, right=0.12603067109079072, bottom=0.5870775282118056), BoundingBox(category='etco2', left=0.10124613444010416, top=0.5924507921006944, right=0.12661260431463067, bottom=0.6037943793402778), BoundingBox(category='fio2', left=0.10786865234375, top=0.611515625, right=0.12621529319069602, bottom=0.6223729926215278), BoundingBox(category='temperature', left=0.0722671924937855, top=0.63009033203125, right=0.12746524695194128, bottom=0.6446311306423611), BoundingBox(category='tidal_volume', left=0.0709186669551965, top=0.6480995551215277, right=0.12645763975201232, bottom=0.6614240993923611), BoundingBox(category='respiratory_rate', left=0.057187800551905775, top=0.6673122287326388, right=0.12663419781309185, bottom=0.6842135959201389), BoundingBox(category='urine_output', left=0.07147493767015861, top=0.6864204644097223, right=0.12700426506273674, bottom=0.7010472547743055), BoundingBox(category='blood_loss', left=0.0808997784238873, top=0.7070029839409723, right=0.12685451623165248, bottom=0.7203348524305555), BoundingBox(category='procedure_details', left=0.0021403467293941614, top=0.7249497612847222, right=0.07321765321673769, bottom=0.7405789930555555), BoundingBox(category='eye_protection', left=0.017018391002308238, top=0.7478831380208333, right=0.06357835711854877, bottom=0.7612766384548612), BoundingBox(category='warming', left=0.016539530898585463, top=0.767279296875, right=0.04624537150065104, bottom=0.7784479709201388), BoundingBox(category='ted_stockings', left=0.01717004140218099, top=0.7846463216145834, right=0.0630198993104877, bottom=0.79678125), BoundingBox(category='safety_checklist', left=0.01720166524251302, top=0.8019896375868055, right=0.06868962605794271, bottom=0.8156803927951389), BoundingBox(category='mask_ventilation', left=0.0865150497898911, top=0.7253584526909722, right=0.1518461377692945, bottom=0.7393369683159722), BoundingBox(category='easy_ventilation', left=0.10131559429746685, top=0.7464264865451389, right=0.1521075439453125, bottom=0.7599695095486111), BoundingBox(category='ventilation_w_adjunct', left=0.10070798006924715, top=0.7642958441840277, right=0.17072685472892993, bottom=0.7774204644097222), BoundingBox(category='difficult_ventilation', left=0.10106301047585227, top=0.7830298394097223, right=0.16217982436671402, bottom=0.7953840603298611), BoundingBox(category='airway', left=0.1827917850378788, top=0.7275210503472223, right=0.20922722093986743, bottom=0.7401455620659723), BoundingBox(category='lma_n', left=0.19793839888139206, top=0.7759300672743056, right=0.21558068477746212, bottom=0.7842955186631945), BoundingBox(category='ett_n', left=0.19782200668797348, top=0.8028502604166666, right=0.2160229862097538, bottom=0.8123292100694445), BoundingBox(category='airway_device', left=0.2938586240826231, top=0.7277657877604167, right=0.34855139530066287, bottom=0.7426982421875), BoundingBox(category='direct_laryngoscopy', left=0.30879677512428977, top=0.74919580078125, right=0.3733455033735795, bottom=0.7615498589409723), BoundingBox(category='video_laryngoscopy', left=0.30841166178385415, top=0.7672279730902778, right=0.3724762517755682, bottom=0.7796289605034722), BoundingBox(category='bronchoscope', left=0.3090277469519413, top=0.7853620334201389, right=0.35474505800189393, bottom=0.7965557725694444), BoundingBox(category='other_airway_device', left=0.3088596043442235, top=0.8018952365451388, right=0.3725154622395833, bottom=0.8151291775173611), BoundingBox(category='dl_view', left=0.39829268022017045, top=0.7500957573784722, right=0.42288418856534093, bottom=0.7593684353298611), BoundingBox(category='tubes_and_lines', left=0.4420559969815341, top=0.7285247938368056, right=0.49642126834753786, bottom=0.7418511284722222), BoundingBox(category='peripheral_iv_line', left=0.45731093897964015, top=0.7493627387152778, right=0.5122056995738636, bottom=0.7631678602430556), BoundingBox(category='central_iv_line', left=0.4570712372750947, top=0.7683414713541666, right=0.5026893199573864, bottom=0.7790157877604167), BoundingBox(category='urinary_catheter', left=0.45732199928977274, top=0.7863833550347222, right=0.5103526352391099, bottom=0.7991057400173611), BoundingBox(category='gastric_tube', left=0.4570974638967803, top=0.8043497178819444, right=0.4966758404356061, bottom=0.8147091471354166), BoundingBox(category='monitoring_details', left=0.531639922170928, top=0.7266044921875, right=0.6034668708570076, bottom=0.7435757378472222), BoundingBox(category='ecg', left=0.5462834398674242, top=0.7505611979166666, right=0.5587976444128788, bottom=0.7592282443576389), BoundingBox(category='nibp', left=0.5463001598011363, top=0.7693814561631944, right=0.561619170217803, bottom=0.7776220160590278), BoundingBox(category='temperature', left=0.5457966382575757, top=0.7872074110243056, right=0.5878319942589962, bottom=0.7990483940972222), BoundingBox(category='capnography', left=0.5463947827888258, top=0.8041309678819445, right=0.589061094341856, bottom=0.8173455403645833), BoundingBox(category='position', left=0.6132959354285038, top=0.7289418402777778, right=0.6451751893939394, bottom=0.7404097764756944), BoundingBox(category='supine', left=0.6276418235085227, top=0.7501220160590277, right=0.6497565991950758, bottom=0.76093505859375), BoundingBox(category='prone', left=0.6277259410511363, top=0.7693526475694444, right=0.6469057765151515, bottom=0.7782184787326389), BoundingBox(category='lithotomy', left=0.6279009824810606, top=0.7872640516493056, right=0.6611163884943182, bottom=0.7986708984375), BoundingBox(category='sitting', left=0.6280704752604167, top=0.8054801432291666, right=0.6491418826941288, bottom=0.8170769856770833), BoundingBox(category='trendeleburg', left=0.6875602213541666, top=0.7507195638020834, right=0.7360353042140152, bottom=0.7629726019965278), BoundingBox(category='fowler', left=0.6880071466619319, top=0.7885260959201389, right=0.7097218276515151, bottom=0.7979197048611111), BoundingBox(category='lateral', left=0.6881588837594697, top=0.8062993706597222, right=0.7102336351799242, bottom=0.8159069010416666), BoundingBox(category='5', left=0.6266158410274622, top=0.0042759132385253905, right=0.6306682794744318, bottom=0.013357354905870226), BoundingBox(category='0', left=0.631194883404356, top=0.004457750956217448, right=0.6350666577888258, bottom=0.013282474941677518), BoundingBox(category='5', left=0.641577666311553, top=0.0045012486775716145, right=0.6452721798058713, bottom=0.013414151509602864), BoundingBox(category='5', left=0.6458815696022727, top=0.004600542704264323, right=0.6497730232007576, bottom=0.013530311584472656), BoundingBox(category='0', left=0.6582883522727273, top=0.004607772403293186, right=0.6622046638257576, bottom=0.013374152289496528), BoundingBox(category='5', left=0.6733425071022727, top=0.004498436821831597, right=0.6774594578598485, bottom=0.01351837412516276), BoundingBox(category='1', left=0.6861774236505682, top=0.00479299799601237, right=0.6895160097064394, bottom=0.013534903632269965), BoundingBox(category='0', left=0.6899985203598484, top=0.004538894229465061, right=0.6940042021780303, bottom=0.013408426072862413), BoundingBox(category='1', left=0.7012314305160985, top=0.004376119825575087, right=0.704495146780303, bottom=0.01333275180392795), BoundingBox(category='5', left=0.7051886541193182, top=0.004352033403184679, right=0.7089689867424243, bottom=0.013230396694607205), BoundingBox(category='2', left=0.7158389559659091, top=0.004304752773708767, right=0.7199090021306818, bottom=0.01310477532280816), BoundingBox(category='0', left=0.7205554569128788, top=0.0042220887078179255, right=0.7244297466856061, bottom=0.01289418707953559), BoundingBox(category='2', left=0.7309317294034091, top=0.003958108690049913, right=0.7350036251183713, bottom=0.013067871941460503), BoundingBox(category='5', left=0.7356236683238636, top=0.0038712709214952256, right=0.7393499200994318, bottom=0.012994949340820312), BoundingBox(category='2', left=0.10245647083629261, top=0.30770496961805555, right=0.10663094260475853, bottom=0.31656429036458333), BoundingBox(category='2', left=0.10692405931877368, top=0.30771834309895835, right=0.11116751006155302, bottom=0.31654928927951387), BoundingBox(category='0', left=0.11139090798117898, top=0.30776242404513887, right=0.11540395100911459, bottom=0.316492431640625), BoundingBox(category='2', left=0.10286267829663825, top=0.3209439019097222, right=0.10701617616595643, bottom=0.32961656358506947), BoundingBox(category='1', left=0.10718817508581913, top=0.32116731770833334, right=0.11090423583984375, bottom=0.3296699761284722), BoundingBox(category='0', left=0.11110427394057765, top=0.32085240342881943, right=0.11518651788884943, bottom=0.3296139865451389), BoundingBox(category='2', left=0.10278561678799716, top=0.3340404188368056, right=0.10668285947857481, bottom=0.34279386393229166), BoundingBox(category='0', left=0.10701800722064395, top=0.3342594672309028, right=0.11119722308534565, bottom=0.34271636284722223), BoundingBox(category='0', left=0.11153029008345171, top=0.3342430826822917, right=0.11556871818773674, bottom=0.34278651258680554), BoundingBox(category='1', left=0.10256597345525569, top=0.3473447536892361, right=0.10616357051964963, bottom=0.35602403428819446), BoundingBox(category='9', left=0.1065906131628788, top=0.3474878472222222, right=0.11067716656309186, bottom=0.35594523111979165), BoundingBox(category='0', left=0.1111715790719697, top=0.34753594292534723, right=0.11535094290068655, bottom=0.35592862955729165), BoundingBox(category='1', left=0.10260053230054451, top=0.36071690538194445, right=0.10629285407788826, bottom=0.3692139756944444), BoundingBox(category='8', left=0.1067445234818892, top=0.36052666558159724, right=0.11073661110617898, bottom=0.36910150824652777), BoundingBox(category='0', left=0.11127580122514205, top=0.36081787109375, right=0.11531627308238636, bottom=0.36917957899305553), BoundingBox(category='1', left=0.10273198908025569, top=0.37377826605902775, right=0.10651624274976326, bottom=0.38228260633680555), BoundingBox(category='7', left=0.10669655539772727, top=0.37383894856770833, right=0.11089299982244318, bottom=0.3820080295138889), BoundingBox(category='0', left=0.11136160185842803, top=0.37376570638020834, right=0.11553936582623106, bottom=0.38221723090277776), BoundingBox(category='1', left=0.10290303548177084, top=0.387219970703125, right=0.10634342078006628, bottom=0.39548887803819444), BoundingBox(category='6', left=0.1069315869880445, top=0.3870001898871528, right=0.11103823575106535, bottom=0.39560093858506945), BoundingBox(category='0', left=0.11142144405480588, top=0.38691962348090275, right=0.11559751568418561, bottom=0.39546137152777777), BoundingBox(category='1', left=0.10312575831557765, top=0.4003478461371528, right=0.10670292709812973, bottom=0.4087436794704861), BoundingBox(category='5', left=0.10708510890151515, top=0.40014889865451386, right=0.11098207415956439, bottom=0.40877739800347224), BoundingBox(category='0', left=0.11141095710523201, top=0.4001608615451389, right=0.11570272734670928, bottom=0.4086745062934028), BoundingBox(category='1', left=0.10302678888494318, top=0.41333827039930554, right=0.10655664617365057, bottom=0.4218226996527778), BoundingBox(category='4', left=0.10700539328835228, top=0.4133612467447917, right=0.11083635734789299, bottom=0.42176456705729165), BoundingBox(category='0', left=0.11161056980942236, top=0.4132233615451389, right=0.11553107984138257, bottom=0.4217829861111111), BoundingBox(category='1', left=0.10290177778764205, top=0.4264803602430556, right=0.10657159978693181, bottom=0.43481418185763887), BoundingBox(category='3', left=0.10678961551550663, top=0.42637711588541666, right=0.11108167243726326, bottom=0.43485696072048613), BoundingBox(category='0', left=0.1115283203125, top=0.42654969618055555, right=0.11586737430456913, bottom=0.4349697265625), BoundingBox(category='1', left=0.10302809281782671, top=0.43987481011284724, right=0.10665374755859375, bottom=0.448082763671875), BoundingBox(category='2', left=0.10683309844045928, top=0.43967529296875, right=0.1110912900982481, bottom=0.44821348741319444), BoundingBox(category='0', left=0.11151962742660985, top=0.43966267903645834, right=0.11576242157907198, bottom=0.44826131184895834), BoundingBox(category='1', left=0.10311321836529357, top=0.4528974066840278, right=0.10659747499408144, bottom=0.46125179036458336), BoundingBox(category='1', left=0.1068839795661695, top=0.4528500434027778, right=0.11059758041844224, bottom=0.4613054470486111), BoundingBox(category='0', left=0.1109756377249053, top=0.452968505859375, right=0.1152781631007339, bottom=0.461291015625), BoundingBox(category='1', left=0.102984619140625, top=0.4662777777777778, right=0.10658641468394886, bottom=0.4744817165798611), BoundingBox(category='0', left=0.10694232362689395, top=0.4660837673611111, right=0.11090957179214016, bottom=0.4745773111979167), BoundingBox(category='0', left=0.11147574684836647, top=0.4660336371527778, right=0.11565212365352746, bottom=0.47441107855902775), BoundingBox(category='9', left=0.10482721502130682, top=0.4793289388020833, right=0.10888659852923768, bottom=0.4878242730034722), BoundingBox(category='0', left=0.10917498039476799, top=0.4793027886284722, right=0.1133458085493608, bottom=0.488046875), BoundingBox(category='8', left=0.10472451874704072, top=0.49255278862847224, right=0.10887448397549716, bottom=0.5011416015625), BoundingBox(category='0', left=0.1092550751657197, top=0.49265587022569446, right=0.11326527913411458, bottom=0.5012699652777778), BoundingBox(category='7', left=0.1045989805279356, top=0.5057130533854167, right=0.1089166259765625, bottom=0.5139072265625), BoundingBox(category='0', left=0.10931503758285985, top=0.5057291124131944, right=0.11332538951526988, bottom=0.5143109266493056), BoundingBox(category='6', left=0.10472647927024148, top=0.5190018446180555, right=0.10889998002485796, bottom=0.5275268012152777), BoundingBox(category='0', left=0.10948598225911459, top=0.5191730685763889, right=0.11338320645419034, bottom=0.5275653754340278), BoundingBox(category='5', left=0.10506664854107481, top=0.5319599066840278, right=0.10910146077473959, bottom=0.5404476453993056), BoundingBox(category='0', left=0.1095504483309659, top=0.5319983723958334, right=0.11356151234019886, bottom=0.5404849717881944), BoundingBox(category='4', left=0.1047781464547822, top=0.5451999240451388, right=0.10907061952533144, bottom=0.5534466688368056), BoundingBox(category='0', left=0.10956199877189868, top=0.5452487521701389, right=0.11357592958392519, bottom=0.5535186089409723), BoundingBox(category='3', left=0.10509271795099431, top=0.55827490234375, right=0.1090878388375947, bottom=0.56694140625), BoundingBox(category='0', left=0.10955436937736743, top=0.5582195095486111, right=0.11349541866418088, bottom=0.5667309027777778), BoundingBox(category='1', left=0.23473044655539774, top=0.7673729383680555, right=0.2379287442294034, bottom=0.77503076171875), BoundingBox(category='3', left=0.23495374274976324, top=0.7855808919270834, right=0.23828361742424242, bottom=0.7936504448784722), BoundingBox(category='2', left=0.25702806877367423, top=0.7675869140625, right=0.260552812056108, bottom=0.7754997287326388), BoundingBox(category='4', left=0.257060546875, top=0.7860734592013889, right=0.2604460005326705, bottom=0.7934287109375), BoundingBox(category='2', left=0.279575546727036, top=0.7677177191840278, right=0.28338569409919506, bottom=0.7757610677083333), BoundingBox(category='5', left=0.28546863902698866, top=0.7678287760416667, right=0.2889379142992424, bottom=0.7755543619791667), BoundingBox(category='5', left=0.28288429953835226, top=0.7861609700520833, right=0.28601980498342805, bottom=0.7940255533854167), BoundingBox(category='1', left=0.4009200032552083, top=0.7692926974826388, right=0.40392189719460225, bottom=0.7768228081597223), BoundingBox(category='2', left=0.39922463156960225, top=0.7870003255208333, right=0.4026144131747159, bottom=0.7947126193576389), BoundingBox(category='2', left=0.39925244880445077, top=0.8047934027777778, right=0.4027235736268939, bottom=0.8125487738715278), BoundingBox(category='natural', left=0.19802638198390152, top=0.7474921332465277, right=0.22139213793205492, bottom=0.7571003146701389), BoundingBox(category='3', left=0.4307607939749053, top=0.76978515625, right=0.43422108043323865, bottom=0.7772288953993055), BoundingBox(category='reverse_trendelenburg', left=0.687750946969697, top=0.7703962131076388, right=0.713008330374053, bottom=0.7793670247395833), BoundingBox(category='4', left=0.4308760209517045, top=0.7890464409722222, right=0.43453506007339016, bottom=0.7955482313368055), BoundingBox(category='trendeleburg', left=0.7145067619554925, top=0.7700849066840277, right=0.762625029592803, bottom=0.7823454318576389), BoundingBox(category='0', left=0.12546375621448863, top=0.29345990668402777, right=0.1293515292080966, bottom=0.30200496419270834), BoundingBox(category='5', left=0.1406672899650805, top=0.29348033311631944, right=0.14479638301964962, bottom=0.30200013563368056), BoundingBox(category='1', left=0.1534565596147017, top=0.2938062879774306, right=0.15678028453480114, bottom=0.3019567328559028), BoundingBox(category='0', left=0.1572064208984375, top=0.29367097981770834, right=0.16149918989701706, bottom=0.3019803059895833), BoundingBox(category='1', left=0.16819206468986742, top=0.29380650499131944, right=0.1719049072265625, bottom=0.30215486653645834), BoundingBox(category='5', left=0.17231071703361742, top=0.29368505859375, right=0.176503554835464, bottom=0.3023896484375), BoundingBox(category='2', left=0.18316785407788827, top=0.29375404188368054, right=0.18723518140388257, bottom=0.3022348361545139), BoundingBox(category='0', left=0.18766729181463068, top=0.2936464572482639, right=0.19178949529474432, bottom=0.30228621419270835), BoundingBox(category='2', left=0.19799945253314394, top=0.2938505859375, right=0.20239908854166666, bottom=0.30243880208333335), BoundingBox(category='5', left=0.20266795765269888, top=0.29393348524305557, right=0.20674244273792614, bottom=0.30260126410590277), BoundingBox(category='3', left=0.21304883552320075, top=0.29389312065972223, right=0.21722275242660985, bottom=0.3027481011284722), BoundingBox(category='0', left=0.21776439319957386, top=0.2938858235677083, right=0.22190475926254735, bottom=0.3026472439236111), BoundingBox(category='3', left=0.2282092100201231, top=0.2940022243923611, right=0.2321193995620265, bottom=0.30263178168402777), BoundingBox(category='5', left=0.23252609715317235, top=0.2941635199652778, right=0.2366714570016572, bottom=0.302678955078125), BoundingBox(category='4', left=0.2430138790246212, top=0.29452742513020835, right=0.246918076023911, bottom=0.3027256130642361), BoundingBox(category='0', left=0.2476177978515625, top=0.2941470269097222, right=0.2517112408262311, bottom=0.30278236219618054), BoundingBox(category='4', left=0.25782174775094696, top=0.2945927734375, right=0.2621725371389678, bottom=0.3029602593315972), BoundingBox(category='5', left=0.2626992890329072, top=0.29443736436631945, right=0.2665942567767519, bottom=0.3030950520833333), BoundingBox(category='5', left=0.272978164210464, top=0.2944241265190972, right=0.276974394827178, bottom=0.3031464029947917), BoundingBox(category='0', left=0.2774803947679924, top=0.2945631510416667, right=0.2813612134528883, bottom=0.30325016276041666), BoundingBox(category='5', left=0.28782605720288823, top=0.29458270941840276, right=0.2919360721472538, bottom=0.30330840386284724), BoundingBox(category='5', left=0.29251017252604167, top=0.2947587890625, right=0.2962663130326705, bottom=0.30322566731770834), BoundingBox(category='0', left=0.3047673080906724, top=0.2949742838541667, right=0.30856770833333336, bottom=0.3035034450954861), BoundingBox(category='5', left=0.31963401100852273, top=0.29494932725694445, right=0.32374108516808714, bottom=0.30364244249131944), BoundingBox(category='1', left=0.33218701911695075, top=0.29511382378472223, right=0.3358131732362689, bottom=0.3035429958767361), BoundingBox(category='0', left=0.3362778172348485, top=0.29477674696180556, right=0.3400579649029356, bottom=0.30360994466145835), BoundingBox(category='1', left=0.34658358487215907, top=0.295286865234375, right=0.35032404119318183, bottom=0.3036889105902778), BoundingBox(category='5', left=0.3509665009469697, top=0.29535923936631947, right=0.35468180338541666, bottom=0.30385205078125), BoundingBox(category='2', left=0.3613320460464015, top=0.29495081922743055, right=0.3655502781723485, bottom=0.303676513671875), BoundingBox(category='0', left=0.365941162109375, top=0.2952160915798611, right=0.36965243252840907, bottom=0.30386116536458335), BoundingBox(category='2', left=0.3760691139914773, top=0.2951363932291667, right=0.3798683490175189, bottom=0.30396807183159724), BoundingBox(category='5', left=0.3806089828953598, top=0.2953684353298611, right=0.3842490826231061, bottom=0.304010009765625), BoundingBox(category='3', left=0.3906769353693182, top=0.29522528754340277, right=0.39446451822916667, bottom=0.303994384765625), BoundingBox(category='0', left=0.3950451290246212, top=0.2953278266059028, right=0.39889237837357955, bottom=0.3039457465277778), BoundingBox(category='3', left=0.4051221073035038, top=0.29527747938368054, right=0.40905676639441285, bottom=0.30411257595486113), BoundingBox(category='5', left=0.4099113325639204, top=0.2956391330295139, right=0.4134827030066288, bottom=0.3040954861111111), BoundingBox(category='4', left=0.41963970762310604, top=0.2956388346354167, right=0.42388461026278407, bottom=0.3037180718315972), BoundingBox(category='0', left=0.42446081912878786, top=0.2954516872829861, right=0.4282853560014205, bottom=0.30385272894965276), BoundingBox(category='4', left=0.43439234878077654, top=0.29558026801215276, right=0.43837761156486743, bottom=0.3039218478732639), BoundingBox(category='5', left=0.43891098484848484, top=0.2954745822482639, right=0.442752167672822, bottom=0.30418174913194446), BoundingBox(category='5', left=0.44893562085700756, top=0.29542203776041664, right=0.45298380533854166, bottom=0.3040751681857639), BoundingBox(category='0', left=0.4535219504616477, top=0.2953792860243056, right=0.4574045262192235, bottom=0.3042412380642361), BoundingBox(category='5', left=0.4638858679569129, top=0.295581787109375, right=0.46768114494554924, bottom=0.3041021321614583), BoundingBox(category='5', left=0.4682618297230114, top=0.2955965983072917, right=0.47196425929214014, bottom=0.304143798828125), BoundingBox(category='0', left=0.48033584132339013, top=0.2953754069010417, right=0.4842914003314394, bottom=0.30387027994791665), BoundingBox(category='5', left=0.4956252959280303, top=0.2955495334201389, right=0.49959942441998106, bottom=0.30416951497395833), BoundingBox(category='1', left=0.5080084783380682, top=0.2958004014756944, right=0.5115728204900568, bottom=0.30409814453125), BoundingBox(category='0', left=0.5119976621685606, top=0.29540131293402777, right=0.5158301890980114, bottom=0.3041653645833333), BoundingBox(category='1', left=0.522882265033144, top=0.2956575249565972, right=0.5263535008285984, bottom=0.3039444986979167), BoundingBox(category='5', left=0.5267778246330492, top=0.29534450954861113, right=0.5305741373697916, bottom=0.304072998046875), BoundingBox(category='2', left=0.5374081883285985, top=0.2954989149305556, right=0.5413573109019887, bottom=0.30402107747395835), BoundingBox(category='0', left=0.5420133833451705, top=0.2953662109375, right=0.5461214192708334, bottom=0.303955322265625), BoundingBox(category='2', left=0.5523473381273675, top=0.29529155815972224, right=0.5564778645833334, bottom=0.30385313585069446), BoundingBox(category='5', left=0.5569479462594698, top=0.29534559461805554, right=0.5610050825639205, bottom=0.304146240234375), BoundingBox(category='3', left=0.5673230350378788, top=0.2953685709635417, right=0.5713354862097538, bottom=0.30401394314236113), BoundingBox(category='0', left=0.5719026692708333, top=0.29526513671875, right=0.5758212742660985, bottom=0.30399853515625), BoundingBox(category='3', left=0.5820932469223485, top=0.2952501898871528, right=0.5862163011955492, bottom=0.30405189344618055), BoundingBox(category='5', left=0.5869893022017045, top=0.2954030219184028, right=0.5909083880800189, bottom=0.3040132107204861), BoundingBox(category='4', left=0.5971518036813447, top=0.2955405544704861, right=0.6015027225378788, bottom=0.3037371690538194), BoundingBox(category='0', left=0.6018478116122159, top=0.2952575141059028, right=0.6059483013731061, bottom=0.30390435112847225), BoundingBox(category='4', left=0.6121879438920454, top=0.29561642795138887, right=0.6163175455729166, bottom=0.30386509874131945), BoundingBox(category='5', left=0.6168144457267992, top=0.2953308648003472, right=0.6207399680397727, bottom=0.3040314127604167), BoundingBox(category='5', left=0.6272975112452651, top=0.29529703776041666, right=0.6312589518229167, bottom=0.3038454318576389), BoundingBox(category='0', left=0.6317354699337121, top=0.2951884494357639, right=0.6357631983901515, bottom=0.3038920627170139), BoundingBox(category='5', left=0.642050263375947, top=0.2954852973090278, right=0.6461282256155303, bottom=0.30385283745659725), BoundingBox(category='5', left=0.6465797378077651, top=0.2953458930121528, right=0.6506653201941288, bottom=0.3039312879774306), BoundingBox(category='0', left=0.6591697739109849, top=0.2954245062934028, right=0.6631055427320076, bottom=0.30397021484375), BoundingBox(category='5', left=0.674608487215909, top=0.2954543999565972, right=0.6785213216145833, bottom=0.30390668402777776), BoundingBox(category='1', left=0.6869366270123106, top=0.295797119140625, right=0.6904597981770834, bottom=0.3041108127170139), BoundingBox(category='0', left=0.690870028409091, top=0.2954852973090278, right=0.6947557853929924, bottom=0.30405796983506944), BoundingBox(category='1', left=0.7016839044744319, top=0.2956477593315972, right=0.705352968158144, bottom=0.304058837890625), BoundingBox(category='5', left=0.7057944187973485, top=0.2955881890190972, right=0.7096454782196969, bottom=0.3040976291232639), BoundingBox(category='2', left=0.7164976917613637, top=0.29537972005208335, right=0.7205388849431819, bottom=0.30410972764756944), BoundingBox(category='0', left=0.7210614198626893, top=0.29564344618055555, right=0.7249716648910984, bottom=0.3039699435763889), BoundingBox(category='2', left=0.7312776692708334, top=0.29562974717881946, right=0.735227568655303, bottom=0.3042026638454861)]\n"
     ]
    }
   ],
   "source": [
    "for sheet in landmark_location_data:\n",
    "    bounding_boxes = complete_homography_and_get_bounding_boxes(\n",
    "        data_path/f\"chart_images/{sheet}\", \n",
    "        data_path/\"intraop_document_landmarks.json\", \n",
    "        show_images=True,\n",
    "    )\n",
    "    if bounding_boxes is None:\n",
    "        continue\n",
    "    break"
   ]
  },
  {
   "cell_type": "markdown",
   "id": "2414bd30-4ba1-490e-b3cd-4aeedf9e0397",
   "metadata": {},
   "source": [
    "Get landmarks that show up only once."
   ]
  },
  {
   "cell_type": "markdown",
   "id": "990d45a9-9aac-4765-99f1-50a0d44447b7",
   "metadata": {},
   "source": [
    "Check labels."
   ]
  },
  {
   "cell_type": "code",
   "execution_count": 31,
   "id": "02674b37-4648-46e5-b6fd-ec681e7664dc",
   "metadata": {},
   "outputs": [],
   "source": [
    "# dump your BoundingBoxes to the format of your choosing here."
   ]
  }
 ],
 "metadata": {
  "kernelspec": {
   "display_name": ".venv",
   "language": "python",
   "name": "python3"
  },
  "language_info": {
   "codemirror_mode": {
    "name": "ipython",
    "version": 3
   },
   "file_extension": ".py",
   "mimetype": "text/x-python",
   "name": "python",
   "nbconvert_exporter": "python",
   "pygments_lexer": "ipython3",
   "version": "3.12.7"
  }
 },
 "nbformat": 4,
 "nbformat_minor": 5
}
