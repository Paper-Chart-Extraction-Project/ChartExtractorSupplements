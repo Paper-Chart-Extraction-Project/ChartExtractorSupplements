{
 "cells": [
  {
   "cell_type": "markdown",
   "id": "4a44eca7-8940-4143-b568-2baa7c4edb31",
   "metadata": {},
   "source": [
    "# YOLO to Label Studio  \n",
    "\n",
    "Purpose - To convert YOLO label files to label studio files.  \n",
    "Author - Ryan Folks\n",
    "\n",
    "---"
   ]
  },
  {
   "cell_type": "code",
   "execution_count": 1,
   "id": "c4b6aa09-9743-4b5e-8d68-bcecc354f644",
   "metadata": {},
   "outputs": [],
   "source": [
    "import sys\n",
    "import os\n",
    "sys.path.append(os.path.join(\"..\", \"..\", \"..\", \"ChartExtractor\", \"src\"))"
   ]
  },
  {
   "cell_type": "code",
   "execution_count": 18,
   "id": "f7e8b548-e128-4204-b2c5-2f73f28fcbf4",
   "metadata": {},
   "outputs": [],
   "source": [
    "from utilities.annotations import BoundingBox\n",
    "\n",
    "import json\n",
    "from pathlib import Path\n",
    "from typing import Dict, List\n",
    "from glob import glob\n",
    "from tqdm.notebook import tqdm"
   ]
  },
  {
   "cell_type": "code",
   "execution_count": 46,
   "id": "bac75473-c2d9-42ee-bec0-6bab8e98be36",
   "metadata": {},
   "outputs": [],
   "source": [
    "def load_yolo_labels_from_file(filepath: Path) -> str:\n",
    "    try:\n",
    "        f = open(str(filepath), 'r')\n",
    "        labels = f.read()\n",
    "    except Exception as e:\n",
    "        print(e)\n",
    "    finally:\n",
    "        f.close()\n",
    "    return labels\n",
    "\n",
    "\n",
    "def load_bounding_boxes_from_yolo_labels(\n",
    "    yolo_label_file: str,\n",
    "    im_width: int,\n",
    "    im_height: int,\n",
    "    id_to_category: Dict,\n",
    "):\n",
    "    return [\n",
    "        BoundingBox.from_yolo(label.replace('\\n', ''), im_width, im_height, id_to_category)\n",
    "        for label in yolo_label_file.split(\"\\n\")\n",
    "    ]\n",
    "\n",
    "\n",
    "def bounding_box_to_ls_result(\n",
    "    bounding_box: BoundingBox,\n",
    "    im_width: int,\n",
    "    im_height: int,\n",
    "):\n",
    "    return {\n",
    "        \"to_name\": \"image\",\n",
    "        \"from_name\": \"label\",\n",
    "        \"type\": \"rectanglelabels\",\n",
    "        \"original_width\": im_width,\n",
    "        \"original_height\": im_height,\n",
    "        \"image_rotation\": 0,\n",
    "        \"value\" : {\n",
    "            \"x\" : (bounding_box.left/im_width)*100,\n",
    "            \"y\" : (bounding_box.top/im_height)*100,\n",
    "            \"width\" : ((bounding_box.right - bounding_box.left)/im_width)*100,\n",
    "            \"height\" : ((bounding_box.bottom - bounding_box.top)/im_height)*100,\n",
    "            \"rotation\": 0,\n",
    "            \"rectanglelabels\": [\n",
    "                bounding_box.category\n",
    "            ]\n",
    "        }\n",
    "    }\n",
    "\n",
    "\n",
    "def ls_task_str_to_dict(ls_task_str: str) -> Dict:\n",
    "    return json.loads(ls_task_str)\n",
    "\n",
    "\n",
    "def make_predictions_section(model_version: str):\n",
    "    return [\n",
    "        {\n",
    "            \"model_version\": model_version,\n",
    "            \"result\":[]\n",
    "        }\n",
    "    ]"
   ]
  },
  {
   "cell_type": "code",
   "execution_count": 94,
   "id": "0ae958f5-df68-4489-a68f-be16d5b7fc7c",
   "metadata": {},
   "outputs": [],
   "source": [
    "ls_task_str = \"\"\"\n",
    "{\n",
    "  \"id\": 195,\n",
    "  \"data\": {\n",
    "    \"image\": \"/data/upload/10/f2d492c7-RC_0033_preoperative_postoperative.JPG\"\n",
    "  },\n",
    "  \"annotations\": [],\n",
    "  \"predictions\": []\n",
    "}\n",
    "\"\"\"\n",
    "\n",
    "chart_name = ls_task_str.split(\".JPG\")[0].split(\"-\")[1]\n",
    "ylabs = load_yolo_labels_from_file(Path(\"E:\")/\"data\"/\"number_detections\"/f\"{chart_name}.txt\")\n",
    "ylabs = load_bounding_boxes_from_yolo_labels(ylabs, 4032, 3024, {ix:str(ix) for ix in range(10)})\n",
    "ylabs = [bounding_box_to_ls_result(bb, 4032, 3024) for bb in ylabs]\n",
    "\n",
    "ls_task = ls_task_str_to_dict(ls_task_str)\n",
    "ls_task[\"predictions\"] = make_predictions_section(\"train_90\")\n",
    "ls_task[\"predictions\"][0][\"result\"] = ylabs\n",
    "\n",
    "try:\n",
    "    f = open(f\"E:/data/number_detections_ls/{chart_name}_task.json\", 'w')\n",
    "    f.write(str(ls_task).replace(\"\\'\", \"\\\"\"))\n",
    "except Exception as e:\n",
    "    print(e)\n",
    "finally:\n",
    "    f.close()"
   ]
  },
  {
   "cell_type": "code",
   "execution_count": null,
   "id": "089c7f18-b64d-49ca-b010-85c3d09fb062",
   "metadata": {},
   "outputs": [],
   "source": []
  }
 ],
 "metadata": {
  "kernelspec": {
   "display_name": "Python 3 (ipykernel)",
   "language": "python",
   "name": "python3"
  },
  "language_info": {
   "codemirror_mode": {
    "name": "ipython",
    "version": 3
   },
   "file_extension": ".py",
   "mimetype": "text/x-python",
   "name": "python",
   "nbconvert_exporter": "python",
   "pygments_lexer": "ipython3",
   "version": "3.12.2"
  }
 },
 "nbformat": 4,
 "nbformat_minor": 5
}
