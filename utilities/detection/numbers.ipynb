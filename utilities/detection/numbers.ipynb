{
 "cells": [
  {
   "cell_type": "markdown",
   "id": "2b7b357b-6aec-42d7-a446-c9d69f13dded",
   "metadata": {},
   "source": [
    "# Numbers\n",
    "\n",
    "Purpose - A notebook with code for detecting numbers on new images.  \n",
    "Author - Ryan Folks"
   ]
  },
  {
   "cell_type": "markdown",
   "id": "75515fb5-bc88-4f17-a1e4-12a776258553",
   "metadata": {},
   "source": [
    "---"
   ]
  },
  {
   "cell_type": "markdown",
   "id": "db2bba52-9346-472a-86e1-91db184680b6",
   "metadata": {},
   "source": [
    "## Load Model"
   ]
  },
  {
   "cell_type": "code",
   "execution_count": null,
   "id": "caabe13a-5de7-4b72-be3d-d3cc20f29639",
   "metadata": {},
   "outputs": [],
   "source": [
    "import sys\n",
    "import os\n",
    "sys.path.append(os.path.join(\"..\", \"..\", \"..\", \"ChartExtractor\", \"src\"))"
   ]
  },
  {
   "cell_type": "code",
   "execution_count": 5,
   "id": "a5f8dd72-3df3-4459-8b9e-b8eb04ef6795",
   "metadata": {},
   "outputs": [],
   "source": [
    "from object_detection_models.ultralytics_yolov8 import UltralyticsYOLOv8\n",
    "from pathlib import Path\n",
    "from dotenv import load_dotenv, dotenv_values"
   ]
  },
  {
   "cell_type": "code",
   "execution_count": 6,
   "id": "a5819db1-2aa0-4c42-b493-94729c5d21c9",
   "metadata": {},
   "outputs": [
    {
     "data": {
      "text/plain": [
       "True"
      ]
     },
     "execution_count": 6,
     "metadata": {},
     "output_type": "execute_result"
    }
   ],
   "source": [
    "load_dotenv()"
   ]
  },
  {
   "cell_type": "code",
   "execution_count": 8,
   "id": "695387f3-b5c9-456d-945a-89f0136f7b79",
   "metadata": {},
   "outputs": [],
   "source": [
    "model = UltralyticsYOLOv8.from_weights_path(os.getenv(\"NUMBER_MODEL_PATH\"))"
   ]
  },
  {
   "cell_type": "markdown",
   "id": "9e100893-3f26-4695-b866-21901e58df43",
   "metadata": {},
   "source": []
  }
 ],
 "metadata": {
  "kernelspec": {
   "display_name": "Python 3 (ipykernel)",
   "language": "python",
   "name": "python3"
  },
  "language_info": {
   "codemirror_mode": {
    "name": "ipython",
    "version": 3
   },
   "file_extension": ".py",
   "mimetype": "text/x-python",
   "name": "python",
   "nbconvert_exporter": "python",
   "pygments_lexer": "ipython3",
   "version": "3.12.2"
  }
 },
 "nbformat": 4,
 "nbformat_minor": 5
}
